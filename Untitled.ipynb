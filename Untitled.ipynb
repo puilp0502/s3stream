{
 "cells": [
  {
   "cell_type": "code",
   "execution_count": 2,
   "id": "dfba7c2d-246c-44d2-ae9d-e59e35eda033",
   "metadata": {},
   "outputs": [],
   "source": [
    ":dep url"
   ]
  },
  {
   "cell_type": "code",
   "execution_count": 3,
   "id": "0a47ddb9-2bac-483f-9a4f-f0c5e83d1ff9",
   "metadata": {},
   "outputs": [],
   "source": [
    "use url::Url;"
   ]
  },
  {
   "cell_type": "code",
   "execution_count": 4,
   "id": "7ca671c6-4eba-40a8-8066-099ef6c7520d",
   "metadata": {},
   "outputs": [
    {
     "data": {
      "text/plain": [
       "Url { scheme: \"s3\", cannot_be_a_base: false, username: \"\", password: None, host: Some(Domain(\"ab180-airbucket\")), port: None, path: \"/kafka/airbridge-raw-events/write_date=2023-01-04/\", query: None, fragment: None }"
      ]
     },
     "execution_count": 4,
     "metadata": {},
     "output_type": "execute_result"
    }
   ],
   "source": [
    "let parsed = Url::parse(\"s3://ab180-airbucket/kafka/airbridge-raw-events/write_date=2023-01-04/\").unwrap();\n",
    "parsed"
   ]
  },
  {
   "cell_type": "code",
   "execution_count": 5,
   "id": "dc3bd375-7ecb-4a96-b55b-c8d898bc3f29",
   "metadata": {},
   "outputs": [
    {
     "data": {
      "text/plain": [
       "Some(\"ab180-airbucket\")"
      ]
     },
     "execution_count": 5,
     "metadata": {},
     "output_type": "execute_result"
    }
   ],
   "source": [
    "parsed.host_str()"
   ]
  },
  {
   "cell_type": "code",
   "execution_count": null,
   "id": "6f6c5d01-cccb-45d1-b0aa-62eeb9ce8157",
   "metadata": {},
   "outputs": [],
   "source": []
  }
 ],
 "metadata": {
  "kernelspec": {
   "display_name": "Rust",
   "language": "rust",
   "name": "rust"
  },
  "language_info": {
   "codemirror_mode": "rust",
   "file_extension": ".rs",
   "mimetype": "text/rust",
   "name": "Rust",
   "pygment_lexer": "rust",
   "version": ""
  }
 },
 "nbformat": 4,
 "nbformat_minor": 5
}
